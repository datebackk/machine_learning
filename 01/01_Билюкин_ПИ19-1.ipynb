{
 "cells": [
  {
   "cell_type": "code",
   "execution_count": 146,
   "id": "67934113",
   "metadata": {},
   "outputs": [],
   "source": [
    "from scipy import stats\n",
    "import numpy as np\n",
    "import pandas as pd\n",
    "import seaborn as sb\n",
    "import re\n",
    "import matplotlib.pyplot as plt"
   ]
  },
  {
   "cell_type": "markdown",
   "id": "513a1443",
   "metadata": {},
   "source": [
    "# Задания для выполнения"
   ]
  },
  {
   "cell_type": "markdown",
   "id": "b987ccff",
   "metadata": {},
   "source": [
    "1. Загрузите данные в ноутбук"
   ]
  },
  {
   "cell_type": "code",
   "execution_count": 26,
   "id": "8e2bdf59",
   "metadata": {},
   "outputs": [],
   "source": [
    "pd_df = pd.read_excel('data/Вариант4.xlsx', header=2, index_col=0, skipfooter=1)\n",
    "df = np.array(pd_df)"
   ]
  },
  {
   "cell_type": "code",
   "execution_count": 27,
   "id": "2346fe45",
   "metadata": {},
   "outputs": [
    {
     "data": {
      "text/html": [
       "<div>\n",
       "<style scoped>\n",
       "    .dataframe tbody tr th:only-of-type {\n",
       "        vertical-align: middle;\n",
       "    }\n",
       "\n",
       "    .dataframe tbody tr th {\n",
       "        vertical-align: top;\n",
       "    }\n",
       "\n",
       "    .dataframe thead th {\n",
       "        text-align: right;\n",
       "    }\n",
       "</style>\n",
       "<table border=\"1\" class=\"dataframe\">\n",
       "  <thead>\n",
       "    <tr style=\"text-align: right;\">\n",
       "      <th></th>\n",
       "      <th>№ школы</th>\n",
       "      <th>Класс</th>\n",
       "      <th>Пол</th>\n",
       "      <th>Номер варианта</th>\n",
       "      <th>Задания с кратким ответом</th>\n",
       "      <th>Задания с развёрнутым ответом</th>\n",
       "      <th>Устная часть</th>\n",
       "      <th>Первичный балл</th>\n",
       "      <th>Балл</th>\n",
       "      <th>Минимальный балл</th>\n",
       "    </tr>\n",
       "    <tr>\n",
       "      <th>№</th>\n",
       "      <th></th>\n",
       "      <th></th>\n",
       "      <th></th>\n",
       "      <th></th>\n",
       "      <th></th>\n",
       "      <th></th>\n",
       "      <th></th>\n",
       "      <th></th>\n",
       "      <th></th>\n",
       "      <th></th>\n",
       "    </tr>\n",
       "  </thead>\n",
       "  <tbody>\n",
       "    <tr>\n",
       "      <th>1</th>\n",
       "      <td>148</td>\n",
       "      <td>13</td>\n",
       "      <td>М</td>\n",
       "      <td>505</td>\n",
       "      <td>-----------------------</td>\n",
       "      <td>0(3)0(2)0(3)0(4)</td>\n",
       "      <td>NaN</td>\n",
       "      <td>0</td>\n",
       "      <td>0</td>\n",
       "      <td>40</td>\n",
       "    </tr>\n",
       "    <tr>\n",
       "      <th>2</th>\n",
       "      <td>147</td>\n",
       "      <td>11</td>\n",
       "      <td>М</td>\n",
       "      <td>328</td>\n",
       "      <td>-----------------------</td>\n",
       "      <td>0(3)0(2)0(3)0(4)</td>\n",
       "      <td>NaN</td>\n",
       "      <td>0</td>\n",
       "      <td>0</td>\n",
       "      <td>40</td>\n",
       "    </tr>\n",
       "    <tr>\n",
       "      <th>3</th>\n",
       "      <td>111</td>\n",
       "      <td>11</td>\n",
       "      <td>М</td>\n",
       "      <td>330</td>\n",
       "      <td>---+---+-+-------------</td>\n",
       "      <td>0(3)0(2)0(3)0(4)</td>\n",
       "      <td>NaN</td>\n",
       "      <td>3</td>\n",
       "      <td>20</td>\n",
       "      <td>40</td>\n",
       "    </tr>\n",
       "    <tr>\n",
       "      <th>4</th>\n",
       "      <td>140</td>\n",
       "      <td>11</td>\n",
       "      <td>М</td>\n",
       "      <td>328</td>\n",
       "      <td>---+---------++--------</td>\n",
       "      <td>0(3)0(2)0(3)0(4)</td>\n",
       "      <td>NaN</td>\n",
       "      <td>3</td>\n",
       "      <td>20</td>\n",
       "      <td>40</td>\n",
       "    </tr>\n",
       "    <tr>\n",
       "      <th>5</th>\n",
       "      <td>148</td>\n",
       "      <td>11</td>\n",
       "      <td>М</td>\n",
       "      <td>328</td>\n",
       "      <td>----+---------+-----+--</td>\n",
       "      <td>0(3)0(2)0(3)0(4)</td>\n",
       "      <td>NaN</td>\n",
       "      <td>3</td>\n",
       "      <td>20</td>\n",
       "      <td>40</td>\n",
       "    </tr>\n",
       "    <tr>\n",
       "      <th>...</th>\n",
       "      <td>...</td>\n",
       "      <td>...</td>\n",
       "      <td>...</td>\n",
       "      <td>...</td>\n",
       "      <td>...</td>\n",
       "      <td>...</td>\n",
       "      <td>...</td>\n",
       "      <td>...</td>\n",
       "      <td>...</td>\n",
       "      <td>...</td>\n",
       "    </tr>\n",
       "    <tr>\n",
       "      <th>137</th>\n",
       "      <td>148</td>\n",
       "      <td>11</td>\n",
       "      <td>Ж</td>\n",
       "      <td>328</td>\n",
       "      <td>+++++++++++++++++++--++</td>\n",
       "      <td>3(3)2(2)3(3)4(4)</td>\n",
       "      <td>NaN</td>\n",
       "      <td>33</td>\n",
       "      <td>94</td>\n",
       "      <td>40</td>\n",
       "    </tr>\n",
       "    <tr>\n",
       "      <th>138</th>\n",
       "      <td>147</td>\n",
       "      <td>11</td>\n",
       "      <td>М</td>\n",
       "      <td>333</td>\n",
       "      <td>+++++++++++++++++++++++</td>\n",
       "      <td>3(3)2(2)2(3)4(4)</td>\n",
       "      <td>NaN</td>\n",
       "      <td>34</td>\n",
       "      <td>97</td>\n",
       "      <td>40</td>\n",
       "    </tr>\n",
       "    <tr>\n",
       "      <th>139</th>\n",
       "      <td>140</td>\n",
       "      <td>11</td>\n",
       "      <td>М</td>\n",
       "      <td>329</td>\n",
       "      <td>+++++++++++++++++++-+++</td>\n",
       "      <td>3(3)2(2)3(3)4(4)</td>\n",
       "      <td>NaN</td>\n",
       "      <td>34</td>\n",
       "      <td>97</td>\n",
       "      <td>40</td>\n",
       "    </tr>\n",
       "    <tr>\n",
       "      <th>140</th>\n",
       "      <td>148</td>\n",
       "      <td>11</td>\n",
       "      <td>Ж</td>\n",
       "      <td>332</td>\n",
       "      <td>-++++++++++++++++++++++</td>\n",
       "      <td>3(3)2(2)3(3)4(4)</td>\n",
       "      <td>NaN</td>\n",
       "      <td>34</td>\n",
       "      <td>97</td>\n",
       "      <td>40</td>\n",
       "    </tr>\n",
       "    <tr>\n",
       "      <th>141</th>\n",
       "      <td>148</td>\n",
       "      <td>11</td>\n",
       "      <td>М</td>\n",
       "      <td>329</td>\n",
       "      <td>+++++++++++++++++++++++</td>\n",
       "      <td>3(3)2(2)3(3)4(4)</td>\n",
       "      <td>NaN</td>\n",
       "      <td>35</td>\n",
       "      <td>100</td>\n",
       "      <td>40</td>\n",
       "    </tr>\n",
       "  </tbody>\n",
       "</table>\n",
       "<p>141 rows × 10 columns</p>\n",
       "</div>"
      ],
      "text/plain": [
       "     № школы Класс Пол  Номер варианта Задания с кратким ответом  \\\n",
       "№                                                                  \n",
       "1        148    13   М             505   -----------------------   \n",
       "2        147    11   М             328   -----------------------   \n",
       "3        111    11   М             330   ---+---+-+-------------   \n",
       "4        140    11   М             328   ---+---------++--------   \n",
       "5        148    11   М             328   ----+---------+-----+--   \n",
       "..       ...   ...  ..             ...                       ...   \n",
       "137      148    11   Ж             328   +++++++++++++++++++--++   \n",
       "138      147    11   М             333   +++++++++++++++++++++++   \n",
       "139      140    11   М             329   +++++++++++++++++++-+++   \n",
       "140      148    11   Ж             332   -++++++++++++++++++++++   \n",
       "141      148    11   М             329   +++++++++++++++++++++++   \n",
       "\n",
       "    Задания с развёрнутым ответом  Устная часть  Первичный балл  Балл  \\\n",
       "№                                                                       \n",
       "1                0(3)0(2)0(3)0(4)           NaN               0     0   \n",
       "2                0(3)0(2)0(3)0(4)           NaN               0     0   \n",
       "3                0(3)0(2)0(3)0(4)           NaN               3    20   \n",
       "4                0(3)0(2)0(3)0(4)           NaN               3    20   \n",
       "5                0(3)0(2)0(3)0(4)           NaN               3    20   \n",
       "..                            ...           ...             ...   ...   \n",
       "137              3(3)2(2)3(3)4(4)           NaN              33    94   \n",
       "138              3(3)2(2)2(3)4(4)           NaN              34    97   \n",
       "139              3(3)2(2)3(3)4(4)           NaN              34    97   \n",
       "140              3(3)2(2)3(3)4(4)           NaN              34    97   \n",
       "141              3(3)2(2)3(3)4(4)           NaN              35   100   \n",
       "\n",
       "     Минимальный балл  \n",
       "№                      \n",
       "1                  40  \n",
       "2                  40  \n",
       "3                  40  \n",
       "4                  40  \n",
       "5                  40  \n",
       "..                ...  \n",
       "137                40  \n",
       "138                40  \n",
       "139                40  \n",
       "140                40  \n",
       "141                40  \n",
       "\n",
       "[141 rows x 10 columns]"
      ]
     },
     "execution_count": 27,
     "metadata": {},
     "output_type": "execute_result"
    }
   ],
   "source": [
    "pd_df"
   ]
  },
  {
   "cell_type": "code",
   "execution_count": 28,
   "id": "8bc37ad5",
   "metadata": {},
   "outputs": [
    {
     "data": {
      "text/plain": [
       "array([[148, 13, 'М', ..., 0, 0, 40],\n",
       "       [147, 11, 'М', ..., 0, 0, 40],\n",
       "       [111, 11, 'М', ..., 3, 20, 40],\n",
       "       ...,\n",
       "       [140, 11, 'М', ..., 34, 97, 40],\n",
       "       [148, 11, 'Ж', ..., 34, 97, 40],\n",
       "       [148, 11, 'М', ..., 35, 100, 40]], dtype=object)"
      ]
     },
     "execution_count": 28,
     "metadata": {},
     "output_type": "execute_result"
    }
   ],
   "source": [
    "df"
   ]
  },
  {
   "cell_type": "markdown",
   "id": "951b3018",
   "metadata": {},
   "source": [
    "2. Сделайте описательную статистику по набранному баллу"
   ]
  },
  {
   "cell_type": "code",
   "execution_count": 39,
   "id": "deaf8f8f",
   "metadata": {},
   "outputs": [
    {
     "name": "stdout",
     "output_type": "stream",
     "text": [
      "Медиана: 64.0\n",
      "Среднее: 60.780141843971634\n",
      "Мода: 77\n"
     ]
    }
   ],
   "source": [
    "print('Медиана:', np.median(df[:,-2]))\n",
    "print('Среднее:', np.mean(df[:,-2]))\n",
    "print('Мода:', stats.mode(df[:,-2])[0][0])"
   ]
  },
  {
   "cell_type": "markdown",
   "id": "779333df",
   "metadata": {},
   "source": [
    "3. Найдите процент учащихся, выполнивших работу ниже среднего"
   ]
  },
  {
   "cell_type": "code",
   "execution_count": 42,
   "id": "1218ef6e",
   "metadata": {},
   "outputs": [
    {
     "data": {
      "text/plain": [
       "0.46099290780141844"
      ]
     },
     "execution_count": 42,
     "metadata": {},
     "output_type": "execute_result"
    }
   ],
   "source": [
    "len(df[:,-2][np.where(df[:,-2] < np.mean(df[:,-2]))]) / len(df[:, -2])"
   ]
  },
  {
   "cell_type": "markdown",
   "id": "e51d6ac0",
   "metadata": {},
   "source": [
    "4. Найти процент учащихся не сдавших экзамен"
   ]
  },
  {
   "cell_type": "code",
   "execution_count": 44,
   "id": "c0a9209b",
   "metadata": {},
   "outputs": [
    {
     "data": {
      "text/plain": [
       "0.11347517730496454"
      ]
     },
     "execution_count": 44,
     "metadata": {},
     "output_type": "execute_result"
    }
   ],
   "source": [
    "len(df[:, -2][np.where(df[:, -2] < 40)]) / len(df[:, -2])"
   ]
  },
  {
   "cell_type": "markdown",
   "id": "2d0cf6bb",
   "metadata": {},
   "source": [
    "5. Постройте круговую диаграмму, показывающую распределение сдавших и не сдавших экзамен"
   ]
  },
  {
   "cell_type": "code",
   "execution_count": 63,
   "id": "62c214b6",
   "metadata": {},
   "outputs": [
    {
     "data": {
      "image/png": "[encoded data removed]",
      "text/plain": [
       "<Figure size 432x288 with 1 Axes>"
      ]
     },
     "metadata": {},
     "output_type": "display_data"
    }
   ],
   "source": [
    "passed_exam = len(df[:, -2][np.where(df[:, -2] > 40)])\n",
    "failed_exam = len(df[:, -2]) - passed_exam\n",
    "plt.pie(\n",
    "    [passed_exam, failed_exam],\n",
    "    labels=['Сдавшие', 'Не сдавшие'],\n",
    "    autopct=lambda p: f'{p*sum([passed_exam, failed_exam]) / 100 :.0f}',\n",
    ")\n",
    "plt.show()"
   ]
  },
  {
   "cell_type": "markdown",
   "id": "d2590e53",
   "metadata": {},
   "source": [
    "6. Постройте ядерную оценку плотности распределению баллов за экзамен"
   ]
  },
  {
   "cell_type": "code",
   "execution_count": 148,
   "id": "4a06beac",
   "metadata": {},
   "outputs": [
    {
     "data": {
      "image/png": "[encoded data removed]",
      "text/plain": [
       "<Figure size 432x288 with 1 Axes>"
      ]
     },
     "metadata": {
      "needs_background": "light"
     },
     "output_type": "display_data"
    }
   ],
   "source": [
    "sb.histplot(df[:, -2].astype('int'), label=\"100% Equities\", kde=True, stat=\"density\", linewidth=1)\n",
    "plt.show()"
   ]
  },
  {
   "cell_type": "markdown",
   "id": "1ec016ee",
   "metadata": {},
   "source": [
    "7. Найдите процентное соотношение учащихся, сдавших экзамен на «отлично», «хорошо», «удовлетворительно», «неудовлетворительно»."
   ]
  },
  {
   "cell_type": "code",
   "execution_count": 69,
   "id": "7df7bd79",
   "metadata": {},
   "outputs": [
    {
     "name": "stdout",
     "output_type": "stream",
     "text": [
      "неудовлетворительно: 0.11347517730496454\n",
      "удовлетворительно: 0.41134751773049644\n",
      "хорошо: 0.3546099290780142\n",
      "отлично: 0.12056737588652482\n"
     ]
    }
   ],
   "source": [
    "scores = df[:, -2]\n",
    "unsatisfactory_mask = (40 > scores)\n",
    "satisfactory_mask = ((40 <= scores) & (scores < 65))\n",
    "well_mask = ((65 <= scores) & (scores < 80))\n",
    "excellent_mask = (80 <= scores)\n",
    "\n",
    "unsatisfactory = scores[unsatisfactory_mask]\n",
    "satisfactory = scores[satisfactory_mask]\n",
    "well = scores[well_mask]\n",
    "excellent = scores[excellent_mask]\n",
    "\n",
    "\n",
    "print('неудовлетворительно:', unsatisfactory.shape[0] / scores.shape[0])\n",
    "print('удовлетворительно:', satisfactory.shape[0] / scores.shape[0])\n",
    "print('хорошо:', well.shape[0] / scores.shape[0])\n",
    "print('отлично:', excellent.shape[0] / scores.shape[0])"
   ]
  },
  {
   "cell_type": "markdown",
   "id": "bed5b564",
   "metadata": {},
   "source": [
    "8. Какое процентное соотношение юношей и девушек писало данный экзамен?"
   ]
  },
  {
   "cell_type": "code",
   "execution_count": 76,
   "id": "ee91fa58",
   "metadata": {},
   "outputs": [
    {
     "name": "stdout",
     "output_type": "stream",
     "text": [
      "юношей: 0.7730496453900709\n",
      "девушек 0.22695035460992907\n"
     ]
    }
   ],
   "source": [
    "sex = df[:, 2]\n",
    "M = len(sex[np.where(sex == 'М')])\n",
    "F = len(sex[np.where(sex == 'Ж')])\n",
    "\n",
    "print('юношей:', M / sex.shape[0])\n",
    "print('девушек', F / sex.shape[0])"
   ]
  },
  {
   "cell_type": "markdown",
   "id": "3892a4fe",
   "metadata": {},
   "source": [
    "9. Сколько школ принимало участие в экзамене?"
   ]
  },
  {
   "cell_type": "code",
   "execution_count": 77,
   "id": "0f5687d8",
   "metadata": {},
   "outputs": [
    {
     "data": {
      "text/plain": [
       "10"
      ]
     },
     "execution_count": 77,
     "metadata": {},
     "output_type": "execute_result"
    }
   ],
   "source": [
    "np.unique(df[:, 0]).shape[0]"
   ]
  },
  {
   "cell_type": "markdown",
   "id": "59456feb",
   "metadata": {},
   "source": [
    "# Дополнительные задания"
   ]
  },
  {
   "cell_type": "markdown",
   "id": "3df7efa8",
   "metadata": {},
   "source": [
    "1. Сколько всего заданий с кратким ответом? С развернутым ответом?"
   ]
  },
  {
   "cell_type": "code",
   "execution_count": 179,
   "id": "d41f12c2",
   "metadata": {},
   "outputs": [
    {
     "name": "stdout",
     "output_type": "stream",
     "text": [
      "с кратким ответом: 23\n",
      "с развернутым ответом: 4\n"
     ]
    }
   ],
   "source": [
    "print('с кратким ответом:', len(df[:, 4][0]))\n",
    "print('с развернутым ответом:', len(re.split(r'\\(\\d\\)', df[:, 5][0])[: -1]))"
   ]
  },
  {
   "cell_type": "markdown",
   "id": "af36b230",
   "metadata": {},
   "source": [
    "2. Пусть задания с кратким ответом будут задания типа В. Соответственно всего по экзамену вопросов класса В: В 1 … В к Посчитайте процент выполненных и невыполненных заданий по каждому вопросу класса В."
   ]
  },
  {
   "cell_type": "code",
   "execution_count": 108,
   "id": "5af5b0e5",
   "metadata": {},
   "outputs": [
    {
     "name": "stdout",
     "output_type": "stream",
     "text": [
      "Вопрос 1: Выполненых: 0.8156028368794326 Невыполненых: 0.18439716312056742\n",
      "Вопрос 2: Выполненых: 0.6099290780141844 Невыполненых: 0.3900709219858156\n",
      "Вопрос 3: Выполненых: 0.7943262411347518 Невыполненых: 0.2056737588652482\n",
      "Вопрос 4: Выполненых: 0.7872340425531915 Невыполненых: 0.21276595744680848\n",
      "Вопрос 5: Выполненых: 0.6808510638297872 Невыполненых: 0.3191489361702128\n",
      "Вопрос 6: Выполненых: 0.6170212765957447 Невыполненых: 0.3829787234042553\n",
      "Вопрос 7: Выполненых: 0.9219858156028369 Невыполненых: 0.07801418439716312\n",
      "Вопрос 8: Выполненых: 0.8652482269503546 Невыполненых: 0.13475177304964536\n",
      "Вопрос 9: Выполненых: 0.49645390070921985 Невыполненых: 0.5035460992907801\n",
      "Вопрос 10: Выполненых: 0.5957446808510638 Невыполненых: 0.4042553191489362\n",
      "Вопрос 11: Выполненых: 0.4326241134751773 Невыполненых: 0.5673758865248226\n",
      "Вопрос 12: Выполненых: 0.5390070921985816 Невыполненых: 0.46099290780141844\n",
      "Вопрос 13: Выполненых: 0.6099290780141844 Невыполненых: 0.3900709219858156\n",
      "Вопрос 14: Выполненых: 0.7659574468085106 Невыполненых: 0.23404255319148937\n",
      "Вопрос 15: Выполненых: 0.7163120567375887 Невыполненых: 0.2836879432624113\n",
      "Вопрос 16: Выполненых: 0.624113475177305 Невыполненых: 0.375886524822695\n",
      "Вопрос 17: Выполненых: 0.6808510638297872 Невыполненых: 0.3191489361702128\n",
      "Вопрос 18: Выполненых: 0.3120567375886525 Невыполненых: 0.6879432624113475\n",
      "Вопрос 19: Выполненых: 0.6808510638297872 Невыполненых: 0.3191489361702128\n",
      "Вопрос 20: Выполненых: 0.1276595744680851 Невыполненых: 0.8723404255319149\n",
      "Вопрос 21: Выполненых: 0.3404255319148936 Невыполненых: 0.6595744680851063\n",
      "Вопрос 22: Выполненых: 0.36879432624113473 Невыполненых: 0.6312056737588653\n",
      "Вопрос 23: Выполненых: 0.1773049645390071 Невыполненых: 0.8226950354609929\n"
     ]
    }
   ],
   "source": [
    "short_answers_df = np.array([list(x) for x in df[:, 4]])\n",
    "for i, col in enumerate(np.transpose(short_answers_df)):\n",
    "    print(\n",
    "        f'Вопрос {i + 1}:',\n",
    "        'Выполненых:', len(col[col == '+']) / short_answers_df.shape[0],\n",
    "        'Невыполненых:', 1 - len(col[col == '+']) / short_answers_df.shape[0]\n",
    "    )"
   ]
  },
  {
   "cell_type": "markdown",
   "id": "fed80319",
   "metadata": {},
   "source": [
    "3. Аналогично и с типом С (ответы с развернутым ответом)"
   ]
  },
  {
   "cell_type": "code",
   "execution_count": 181,
   "id": "87f9c190",
   "metadata": {},
   "outputs": [
    {
     "name": "stdout",
     "output_type": "stream",
     "text": [
      "Вопрос 1: Выполненых: 0.6595744680851063 Невыполненых: 0.34042553191489366\n",
      "Вопрос 2: Выполненых: 0.475177304964539 Невыполненых: 0.524822695035461\n",
      "Вопрос 3: Выполненых: 0.5602836879432624 Невыполненых: 0.43971631205673756\n",
      "Вопрос 4: Выполненых: 0.3191489361702128 Невыполненых: 0.6808510638297872\n"
     ]
    }
   ],
   "source": [
    "long_answers_df = np.array([list(re.split(r'\\(\\d\\)', x)[: -1]) for x in df[:, 5]])\n",
    "for i, col in enumerate(np.transpose(long_answers_df)):\n",
    "    print(\n",
    "        f'Вопрос {i + 1}:',\n",
    "        'Выполненых:', len(col[col > '0']) / long_answers_df.shape[0],\n",
    "        'Невыполненых:', 1 - len(col[col > '0']) / long_answers_df.shape[0]\n",
    "    )"
   ]
  },
  {
   "cell_type": "markdown",
   "id": "81acf0b2",
   "metadata": {},
   "source": [
    "4. Сделайте анализ по двум школам:\n",
    "        a) по всем выполненным заданиям типа В\n",
    "        b) по заданиям типа С больше 50%\n",
    "        c) по среднему балу юношей и девушек"
   ]
  },
  {
   "cell_type": "code",
   "execution_count": 119,
   "id": "76024316",
   "metadata": {},
   "outputs": [
    {
     "name": "stdout",
     "output_type": "stream",
     "text": [
      "Процент выполненных заданий типа В по школам 148 и 147\n",
      "\n",
      "Вопрос 1: Выполненых: 0.8080808080808081\n",
      "Вопрос 2: Выполненых: 0.6262626262626263\n",
      "Вопрос 3: Выполненых: 0.7474747474747475\n",
      "Вопрос 4: Выполненых: 0.7777777777777778\n",
      "Вопрос 5: Выполненых: 0.6868686868686869\n",
      "Вопрос 6: Выполненых: 0.6464646464646465\n",
      "Вопрос 7: Выполненых: 0.9292929292929293\n",
      "Вопрос 8: Выполненых: 0.8787878787878788\n",
      "Вопрос 9: Выполненых: 0.5757575757575758\n",
      "Вопрос 10: Выполненых: 0.5959595959595959\n",
      "Вопрос 11: Выполненых: 0.45454545454545453\n",
      "Вопрос 12: Выполненых: 0.5555555555555556\n",
      "Вопрос 13: Выполненых: 0.6060606060606061\n",
      "Вопрос 14: Выполненых: 0.8080808080808081\n",
      "Вопрос 15: Выполненых: 0.7171717171717171\n",
      "Вопрос 16: Выполненых: 0.6363636363636364\n",
      "Вопрос 17: Выполненых: 0.7171717171717171\n",
      "Вопрос 18: Выполненых: 0.35353535353535354\n",
      "Вопрос 19: Выполненых: 0.7171717171717171\n",
      "Вопрос 20: Выполненых: 0.1414141414141414\n",
      "Вопрос 21: Выполненых: 0.37373737373737376\n",
      "Вопрос 22: Выполненых: 0.3939393939393939\n",
      "Вопрос 23: Выполненых: 0.1717171717171717\n"
     ]
    }
   ],
   "source": [
    "school_mask = ((df[:, 0] == 148) | (df[:, 0] == 147))\n",
    "\n",
    "short_answers_df = np.array([list(x) for x in df[school_mask][:, 4]])\n",
    "print('Процент выполненных заданий типа В по школам 148 и 147\\n')\n",
    "for i, col in enumerate(np.transpose(short_answers_df)):\n",
    "    print(f'Вопрос {i + 1}:', 'Выполненых:', len(col[col == '+']) / short_answers_df.shape[0])"
   ]
  },
  {
   "cell_type": "code",
   "execution_count": 180,
   "id": "c50f6245",
   "metadata": {},
   "outputs": [
    {
     "name": "stdout",
     "output_type": "stream",
     "text": [
      "Процент выполненных больше 50% заданий типа С по школам 148 и 147\n",
      "\n",
      "Вопрос 1: Выполненых больше 50%: 0.6565656565656566\n",
      "Вопрос 2: Выполненых больше 50%: 0.3838383838383838\n",
      "Вопрос 3: Выполненых больше 50%: 0.41414141414141414\n",
      "Вопрос 4: Выполненых больше 50%: 0.09090909090909091\n"
     ]
    }
   ],
   "source": [
    "long_answers_df = np.array([list(re.split(r'\\(\\d\\)', x)[: -1]) for x in df[school_mask][:, 5]])\n",
    "long_answers_scores = np.array(list(''.join(''.join(df[:, 5][0].split('(')).split(')')))[1::2]).astype('int')\n",
    "print('Процент выполненных больше 50% заданий типа С по школам 148 и 147\\n')\n",
    "for i, col in enumerate(np.transpose(long_answers_df)):\n",
    "    print(\n",
    "        f'Вопрос {i + 1}:',\n",
    "        'Выполненых больше 50%:', len(col[col.astype('int') > (long_answers_scores[i] / 2)]) / long_answers_df.shape[0]\n",
    "    )"
   ]
  },
  {
   "cell_type": "code",
   "execution_count": 129,
   "id": "552c09ff",
   "metadata": {},
   "outputs": [
    {
     "name": "stdout",
     "output_type": "stream",
     "text": [
      "Средний балл юношей по школам 148 и 147: 60.84722222222222\n",
      "Средний балл девушек по школам 148 и 147: 67.51851851851852\n"
     ]
    }
   ],
   "source": [
    "filtered = df[school_mask]\n",
    "print('Средний балл юношей по школам 148 и 147:', filtered[filtered[:, 2] == 'М'][:, -2].mean())\n",
    "print('Средний балл девушек по школам 148 и 147:', filtered[filtered[:, 2] == 'Ж'][:, -2].mean())"
   ]
  },
  {
   "cell_type": "markdown",
   "id": "ef73d7dc",
   "metadata": {},
   "source": [
    "# Контрольные вопросы"
   ]
  },
  {
   "cell_type": "markdown",
   "id": "341a87db",
   "metadata": {},
   "source": [
    "1. Какое свойство содержит количество элементов массива по измерениям?"
   ]
  },
  {
   "cell_type": "markdown",
   "id": "cb4342bb",
   "metadata": {},
   "source": [
    "shape"
   ]
  },
  {
   "cell_type": "markdown",
   "id": "d17df973",
   "metadata": {},
   "source": [
    "2. Напишите функцию, создающую ndarray из массива [0, 1, 2, 3, 4]"
   ]
  },
  {
   "cell_type": "code",
   "execution_count": 130,
   "id": "f7679249",
   "metadata": {},
   "outputs": [
    {
     "data": {
      "text/plain": [
       "array([0, 1, 2, 3, 4])"
      ]
     },
     "execution_count": 130,
     "metadata": {},
     "output_type": "execute_result"
    }
   ],
   "source": [
    "a = np.array([0, 1, 2, 3, 4])\n",
    "a"
   ]
  },
  {
   "cell_type": "markdown",
   "id": "4925be21",
   "metadata": {},
   "source": [
    "3. Как создать нулевой 4-мерный вектор?"
   ]
  },
  {
   "cell_type": "code",
   "execution_count": 152,
   "id": "9f219287",
   "metadata": {},
   "outputs": [
    {
     "data": {
      "text/plain": [
       "array([[[0., 0., 0., 0.]],\n",
       "\n",
       "       [[0., 0., 0., 0.]],\n",
       "\n",
       "       [[0., 0., 0., 0.]]])"
      ]
     },
     "execution_count": 152,
     "metadata": {},
     "output_type": "execute_result"
    }
   ],
   "source": [
    "np.zeros((3, 1, 4))"
   ]
  },
  {
   "cell_type": "markdown",
   "id": "1c809c84",
   "metadata": {},
   "source": [
    "4. Как создать единичную диагональную матрицу 3х4?"
   ]
  },
  {
   "cell_type": "code",
   "execution_count": 149,
   "id": "aa03559f",
   "metadata": {},
   "outputs": [
    {
     "data": {
      "text/plain": [
       "array([[1., 0., 0., 0.],\n",
       "       [0., 1., 0., 0.],\n",
       "       [0., 0., 1., 0.]])"
      ]
     },
     "execution_count": 149,
     "metadata": {},
     "output_type": "execute_result"
    }
   ],
   "source": [
    "np.eye(3, 4)"
   ]
  },
  {
   "cell_type": "markdown",
   "id": "c15474e9",
   "metadata": {},
   "source": [
    "5. Сколько операций умножения матриц существует в numpy?"
   ]
  },
  {
   "cell_type": "code",
   "execution_count": 162,
   "id": "3867a9cb",
   "metadata": {},
   "outputs": [
    {
     "name": "stdout",
     "output_type": "stream",
     "text": [
      "[[ 9 12 13]\n",
      " [ 6 11  6]\n",
      " [12 18 18]] \n",
      "\n",
      "[[ 9 12 13]\n",
      " [ 6 11  6]\n",
      " [12 18 18]] \n",
      "\n",
      "[[ 9 12 13]\n",
      " [ 6 11  6]\n",
      " [12 18 18]] \n",
      "\n",
      "[[ 9 12 13]\n",
      " [ 6 11  6]\n",
      " [12 18 18]] \n",
      "\n"
     ]
    }
   ],
   "source": [
    "a = np.random.randint(5, size=(3, 3))\n",
    "b = np.random.randint(5, size=(3, 3))\n",
    "print(np.dot(a, b), '\\n')\n",
    "print(np.matmul(a, b), '\\n')\n",
    "print(np.matrix(a) * np.matrix(b), '\\n')\n",
    "print(a @ b, '\\n')"
   ]
  },
  {
   "cell_type": "markdown",
   "id": "645a0853",
   "metadata": {},
   "source": [
    "6. Напишите инструкцию, выбирающую каждый третий элемент массива А начиная с 10-го и заканчивая 45-м"
   ]
  },
  {
   "cell_type": "code",
   "execution_count": 142,
   "id": "9edb5fec",
   "metadata": {},
   "outputs": [
    {
     "data": {
      "text/plain": [
       "array([10, 13, 16, 19, 22, 25, 28, 31, 34, 37, 40, 43])"
      ]
     },
     "execution_count": 142,
     "metadata": {},
     "output_type": "execute_result"
    }
   ],
   "source": [
    "a = np.arange(1, 46)[9:45:3]\n",
    "a"
   ]
  },
  {
   "cell_type": "markdown",
   "id": "a640d4e5",
   "metadata": {},
   "source": [
    "7. Напишите инструкцию создания матрицы 4х3 из плоского массива из 12 элементов"
   ]
  },
  {
   "cell_type": "code",
   "execution_count": 135,
   "id": "91a66758",
   "metadata": {},
   "outputs": [
    {
     "data": {
      "text/plain": [
       "array([[4, 0, 1],\n",
       "       [1, 0, 4],\n",
       "       [2, 3, 1],\n",
       "       [2, 0, 1]])"
      ]
     },
     "execution_count": 135,
     "metadata": {},
     "output_type": "execute_result"
    }
   ],
   "source": [
    "a = np.random.randint(5, size=12)\n",
    "a.reshape(4, 3)"
   ]
  }
 ],
 "metadata": {
  "kernelspec": {
   "display_name": "Python 3",
   "language": "python",
   "name": "python3"
  },
  "language_info": {
   "codemirror_mode": {
    "name": "ipython",
    "version": 3
   },
   "file_extension": ".py",
   "mimetype": "text/x-python",
   "name": "python",
   "nbconvert_exporter": "python",
   "pygments_lexer": "ipython3",
   "version": "3.8.8"
  }
 },
 "nbformat": 4,
 "nbformat_minor": 5
}
